{
 "cells": [
  {
   "cell_type": "code",
   "execution_count": 85,
   "metadata": {},
   "outputs": [],
   "source": [
    "\n",
    "import json\n",
    "import requests\n",
    "import os\n",
    "import logging\n",
    "from secure_gpt_api import  chat_with_api\n",
    "from get_access_token import get_access_token\n"
   ]
  },
  {
   "cell_type": "code",
   "execution_count": 86,
   "metadata": {},
   "outputs": [],
   "source": [
    "token_url = \"https://api.veolia.com/security/v2/oauth/token\"\n",
    "api_url = 'https://api.veolia.com/llm/veoliasecuregpt/v1/answer'\n",
    "client_email = \"kaylee.rosendahl@veolia.com\"\n",
    "access_token = get_access_token(token_url, api_url)"
   ]
  },
  {
   "cell_type": "code",
   "execution_count": 87,
   "metadata": {},
   "outputs": [],
   "source": [
    "response = chat_with_api(prompt=\"Hello\", access_token=access_token, client_email=client_email)"
   ]
  },
  {
   "cell_type": "code",
   "execution_count": 88,
   "metadata": {},
   "outputs": [
    {
     "data": {
      "text/plain": [
       "'How can I help you today?\\n'"
      ]
     },
     "execution_count": 88,
     "metadata": {},
     "output_type": "execute_result"
    }
   ],
   "source": [
    "response"
   ]
  },
  {
   "cell_type": "code",
   "execution_count": 89,
   "metadata": {},
   "outputs": [],
   "source": [
    "\n",
    "api_url = 'https://api.veolia.com/llm/veoliasecuregpt/v1/answer'\n",
    "\n",
    "headers = {\n",
    "        \"Authorization\": f\"Bearer {access_token}\",\n",
    "        \"Content-Type\": \"application/json\"\n",
    "}\n",
    "\n",
    "data = {\n",
    "\"useremail\": f\"{client_email}\",\n",
    "\n",
    "\"history\": [\n",
    "    {\n",
    "      \"role\": \"user\",\n",
    "      \"content\": [  # The content of the user message\n",
    "        {\"type\": \"string\", \"text\": \"Fill out the template using the information in this document\"},\n",
    "        {\"type\": \"image_url\", \"image_url\": {\"url\": \"gs://kjr-veolia-test/cim_documents/pdf/CIMSample1.pdf\"}},\n",
    "        {\"type\": \"image_url\", \"image_url\": {\"url\": \"gs://kjr-veolia-test/CIMOutline.pdf\"}}\n",
    "      ]\n",
    "    }\n",
    "  ],\n",
    "\"temperature\": .1,\n",
    "\"top_p\": 1,\n",
    "# \"model\": model,\n",
    "}\n",
    "response = requests.post(api_url, headers=headers, data=json.dumps(data))\n"
   ]
  },
  {
   "cell_type": "code",
   "execution_count": 90,
   "metadata": {},
   "outputs": [
    {
     "data": {
      "text/plain": [
       "{'code': '500',\n",
       " 'reason': 'Internal Server Error',\n",
       " 'message': '',\n",
       " 'origin': {'type': 'backend',\n",
       "  'backend': 'http://7.0.4.2/answer',\n",
       "  'proxy': 'prd-vesa-veoliasecuregpt-v1'}}"
      ]
     },
     "execution_count": 90,
     "metadata": {},
     "output_type": "execute_result"
    }
   ],
   "source": [
    "response.json()"
   ]
  },
  {
   "cell_type": "code",
   "execution_count": 1,
   "metadata": {},
   "outputs": [
    {
     "ename": "AttributeError",
     "evalue": "module 'oauth2client.service_account' has no attribute 'Credentials'",
     "output_type": "error",
     "traceback": [
      "\u001b[0;31m---------------------------------------------------------------------------\u001b[0m",
      "\u001b[0;31mAttributeError\u001b[0m                            Traceback (most recent call last)",
      "Cell \u001b[0;32mIn[1], line 9\u001b[0m\n\u001b[1;32m      3\u001b[0m SCOPES \u001b[38;5;241m=\u001b[39m [\n\u001b[1;32m      4\u001b[0m     \u001b[38;5;124m\"\u001b[39m\u001b[38;5;124mhttps://www.googleapis.com/auth/spreadsheets\u001b[39m\u001b[38;5;124m\"\u001b[39m,\n\u001b[1;32m      5\u001b[0m     \u001b[38;5;124m\"\u001b[39m\u001b[38;5;124mhttps://www.googleapis.com/auth/calendar.readonly\u001b[39m\u001b[38;5;124m\"\u001b[39m,\n\u001b[1;32m      6\u001b[0m ]\n\u001b[1;32m      8\u001b[0m SERVICE_ACCOUNT_FILE \u001b[38;5;241m=\u001b[39m \u001b[38;5;124m\"\u001b[39m\u001b[38;5;124mmjb-personal-sandbox-ea63ef00e7db.json\u001b[39m\u001b[38;5;124m\"\u001b[39m\n\u001b[0;32m----> 9\u001b[0m creds \u001b[38;5;241m=\u001b[39m \u001b[43mservice_account\u001b[49m\u001b[38;5;241;43m.\u001b[39;49m\u001b[43mCredentials\u001b[49m\u001b[38;5;241m.\u001b[39mfrom_service_account_file(\n\u001b[1;32m     10\u001b[0m     SERVICE_ACCOUNT_FILE, scopes\u001b[38;5;241m=\u001b[39mSCOPES\n\u001b[1;32m     11\u001b[0m )\n",
      "\u001b[0;31mAttributeError\u001b[0m: module 'oauth2client.service_account' has no attribute 'Credentials'"
     ]
    }
   ],
   "source": [
    "# Build Cal and Sheets services\n",
    "from oauth2client import service_account\n",
    "SCOPES = [\n",
    "    \"https://www.googleapis.com/auth/spreadsheets\",\n",
    "    \"https://www.googleapis.com/auth/calendar.readonly\",\n",
    "]\n",
    "\n",
    "SERVICE_ACCOUNT_FILE = \"mjb-personal-sandbox-ea63ef00e7db.json\"\n",
    "creds = service_account.Credentials.from_service_account_file(\n",
    "    SERVICE_ACCOUNT_FILE, scopes=SCOPES\n",
    ")\n",
    "\n",
    "try:\n",
    "    cal_service = build(\"calendar\", \"v3\", credentials=creds)\n",
    "    sheets_service = build(\"sheets\", \"v4\", credentials=creds)\n",
    "except HttpError as err:\n",
    "    print(err)"
   ]
  },
  {
   "cell_type": "code",
   "execution_count": 4,
   "metadata": {},
   "outputs": [],
   "source": [
    "prompt = \"\"\"ArithmeticError\n",
    "\"\"\"\n",
    "TAB_TITLES = [\"Executive Summary\", \"II. Investment Rationale\", \n",
    "              \"III. About the Target\", \"IV. Growth Opportunity\", \n",
    "              \"V. Key Financial Model Assumptions\", \n",
    "              \"VI. Preliminary Integration Plan\", \n",
    "              \"VII. Legal and Contractual Analysis\",\n",
    "              \"VIII. Preliminary Risk Analysis and Due Diligence Plan\",\n",
    "              \"Appendices\"]\n",
    "prompt += \"\\n\".join(TAB_TITLES)"
   ]
  },
  {
   "cell_type": "code",
   "execution_count": 5,
   "metadata": {},
   "outputs": [
    {
     "data": {
      "text/plain": [
       "'ArithmeticError\\nExecutive Summary\\nII. Investment Rationale\\nIII. About the Target\\nIV. Growth Opportunity\\nV. Key Financial Model Assumptions\\nVI. Preliminary Integration Plan\\nVII. Legal and Contractual Analysis\\nVIII. Preliminary Risk Analysis and Due Diligence Plan\\nAppendices'"
      ]
     },
     "execution_count": 5,
     "metadata": {},
     "output_type": "execute_result"
    }
   ],
   "source": [
    "prompt"
   ]
  },
  {
   "cell_type": "code",
   "execution_count": null,
   "metadata": {},
   "outputs": [],
   "source": []
  }
 ],
 "metadata": {
  "kernelspec": {
   "display_name": "Python 3",
   "language": "python",
   "name": "python3"
  },
  "language_info": {
   "codemirror_mode": {
    "name": "ipython",
    "version": 3
   },
   "file_extension": ".py",
   "mimetype": "text/x-python",
   "name": "python",
   "nbconvert_exporter": "python",
   "pygments_lexer": "ipython3",
   "version": "3.12.0"
  }
 },
 "nbformat": 4,
 "nbformat_minor": 2
}
