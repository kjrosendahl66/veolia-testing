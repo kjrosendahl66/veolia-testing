{
 "cells": [
  {
   "cell_type": "code",
   "execution_count": 26,
   "metadata": {},
   "outputs": [],
   "source": [
    "\n",
    "import json\n",
    "import logging\n",
    "import requests\n",
    "import os\n",
    "import logging\n",
    "from oauthlib.oauth2 import BackendApplicationClient\n",
    "from requests.auth import AuthBase, HTTPBasicAuth\n",
    "from requests_oauthlib import OAuth2Session\n",
    "from fastapi import HTTPException\n",
    "from dotenv import load_dotenv\n",
    "from get_access_token import get_access_token\n"
   ]
  },
  {
   "cell_type": "code",
   "execution_count": 38,
   "metadata": {},
   "outputs": [
    {
     "data": {
      "text/plain": [
       "'rZQ935fFsQ8WqxiH4XpMVuWwsIil'"
      ]
     },
     "execution_count": 38,
     "metadata": {},
     "output_type": "execute_result"
    }
   ],
   "source": [
    "token_url = \"https://api.veolia.com/security/v2/oauth/token\"\n",
    "api_url = 'https://api.veolia.com/llm/veoliasecuregpt/v1/answer'\n",
    "client_email = \"kaylee.rosendahl@veolia.com\"\n",
    "access_token = get_access_token(token_url, api_url)\n",
    "access_token"
   ]
  },
  {
   "cell_type": "code",
   "execution_count": null,
   "metadata": {},
   "outputs": [],
   "source": [
    "from secure_gpt_api import chat_with_api \n",
    "\n",
    "\n",
    "def chat_with_api(prompt: str, access_token: str, client_email: str,\n",
    "                  temperature: float = 0.1, top_p: int = 1): "
   ]
  },
  {
   "cell_type": "code",
   "execution_count": 47,
   "metadata": {},
   "outputs": [],
   "source": [
    "response = chat_with_api(prompt=\"Hello\", access_token=access_token, client_email=client_email)"
   ]
  },
  {
   "cell_type": "code",
   "execution_count": 48,
   "metadata": {},
   "outputs": [
    {
     "data": {
      "text/plain": [
       "'How can I help you today?\\n'"
      ]
     },
     "execution_count": 48,
     "metadata": {},
     "output_type": "execute_result"
    }
   ],
   "source": [
    "response"
   ]
  },
  {
   "cell_type": "code",
   "execution_count": 49,
   "metadata": {},
   "outputs": [],
   "source": [
    "\n",
    "api_url = 'https://api.veolia.com/llm/veoliasecuregpt/v1/answer'\n",
    "\n",
    "headers = {\n",
    "        \"Authorization\": f\"Bearer {access_token}\",\n",
    "        \"Content-Type\": \"application/json\"\n",
    "}\n",
    "\n",
    "data = {\n",
    "\"useremail\": f\"{client_email}\",\n",
    "\n",
    "\"history\": [\n",
    "    {\n",
    "        \"role\": \"user\",\n",
    "        \"content\": [{\"type\":\"string\",\"text\":\"Fill out the template using the information in this document\"}, \n",
    "                    {\"type\": \"image_url\", \"url\": \"gs://kjr-veiolia-test/cim_documents/pdf/CIMSample1.pdf\"}, \n",
    "                    {\"type\": \"image_url\", \"url\": \"gs://kjr-veiolia-test/CIMOutline.pdf\"}],\n",
    "    }\n",
    "],\n",
    "\"temperature\": .1,\n",
    "\"top_p\": 1,\n",
    "# \"model\": model,\n",
    "}\n",
    "response = requests.post(api_url, headers=headers, data=json.dumps(data))\n"
   ]
  },
  {
   "cell_type": "code",
   "execution_count": 50,
   "metadata": {},
   "outputs": [
    {
     "data": {
      "text/plain": [
       "{'code': '422',\n",
       " 'reason': 'Unprocessable Entity',\n",
       " 'message': '',\n",
       " 'origin': {'type': 'backend',\n",
       "  'backend': 'http://7.0.4.2/answer',\n",
       "  'proxy': 'prd-vesa-veoliasecuregpt-v1'}}"
      ]
     },
     "execution_count": 50,
     "metadata": {},
     "output_type": "execute_result"
    }
   ],
   "source": [
    "response.json()"
   ]
  },
  {
   "cell_type": "code",
   "execution_count": null,
   "metadata": {},
   "outputs": [],
   "source": []
  }
 ],
 "metadata": {
  "kernelspec": {
   "display_name": "Python 3",
   "language": "python",
   "name": "python3"
  },
  "language_info": {
   "codemirror_mode": {
    "name": "ipython",
    "version": 3
   },
   "file_extension": ".py",
   "mimetype": "text/x-python",
   "name": "python",
   "nbconvert_exporter": "python",
   "pygments_lexer": "ipython3",
   "version": "3.12.0"
  }
 },
 "nbformat": 4,
 "nbformat_minor": 2
}
